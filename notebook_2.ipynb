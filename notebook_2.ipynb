{
 "cells": [
  {
   "attachments": {
    "Logo.PNG": {
     "image/png": "[encoded data removed]"
    }
   },
   "cell_type": "markdown",
   "id": "ba113fd2",
   "metadata": {},
   "source": [
    "![Logo.PNG](attachment:Logo.PNG)"
   ]
  },
  {
   "cell_type": "markdown",
   "id": "6343fa3d",
   "metadata": {},
   "source": [
    "# ANALYSE DES ASSOCIATIONS SUR LES PANIERS CLIENTS CONTENANT AU MOINS UN LIVRE FIGURANT AU TOP 10 DES VENTES"
   ]
  },
  {
   "cell_type": "code",
   "execution_count": 1,
   "id": "ca43cbf9",
   "metadata": {},
   "outputs": [],
   "source": [
    "# import librairies needed for project\n",
    "import datetime as dt\n",
    "import itertools as it\n",
    "import math as mt\n",
    "import matplotlib.pyplot as plt\n",
    "import missingno as msno\n",
    "import numpy as np\n",
    "import pandas as pd\n",
    "import random as rd\n",
    "import scipy.stats as st\n",
    "import seaborn as sns\n",
    "\n",
    "from collections import Counter\n",
    "from mlxtend.frequent_patterns import apriori, fpmax, fpgrowth\n",
    "from mlxtend.frequent_patterns import association_rules\n",
    "from mlxtend.preprocessing import TransactionEncoder\n",
    "\n",
    "# import user-created functions\n",
    "from functions import *"
   ]
  },
  {
   "cell_type": "code",
   "execution_count": 2,
   "id": "ac6f34ef",
   "metadata": {},
   "outputs": [],
   "source": [
    "# import sales data\n",
    "sales = pd.read_csv('transactions.csv', encoding='latin-1')\n",
    "\n",
    "# import list of top 10 products sold by volume\n",
    "max_sales = pd.read_csv('tableau2a.csv')\n",
    "\n",
    "# list is a multi-level index df, so it will show NaNs in some cells of the first row which need to be removed\n",
    "max_sales.dropna(axis=0, how='any', inplace=True)\n",
    "max_list = max_sales['product_id_sales'].tolist()"
   ]
  },
  {
   "cell_type": "code",
   "execution_count": 3,
   "id": "63fcb84d",
   "metadata": {},
   "outputs": [],
   "source": [
    "# select all sessions where any top 10 product is present\n",
    "top_sales = sales.loc[(sales['id_prod']==max_list[0]) | (sales['id_prod']==max_list[1]) | (sales['id_prod']==max_list[2])\n",
    "                     | (sales['id_prod']==max_list[3]) | (sales['id_prod']==max_list[4])| (sales['id_prod']==max_list[5])\n",
    "                     | (sales['id_prod']==max_list[6])| (sales['id_prod']==max_list[7]) | (sales['id_prod']==max_list[8])\n",
    "                     | (sales['id_prod']==max_list[9])]"
   ]
  },
  {
   "cell_type": "code",
   "execution_count": 4,
   "id": "37022ad9",
   "metadata": {},
   "outputs": [
    {
     "name": "stdout",
     "output_type": "stream",
     "text": [
      "\r",
      "Processing 2352 combinations | Sampling itemset size 2\n"
     ]
    }
   ],
   "source": [
    "# count number of products in each session (=basket size) \n",
    "sales_nb = top_sales.copy()\n",
    "sales_nb = sales_nb.groupby(['session_id'])['id_prod'].count().reset_index()\n",
    "sales_nb.rename(columns={'id_prod': 'basket_size'}, inplace=True)\n",
    "\n",
    "# add basket size as a column in sales df\n",
    "sales_multi = pd.merge(sales, sales_nb, how='left', right_on='session_id',left_on='session_id')\n",
    "\n",
    "# in order to make the running of the algorithm more efficient, we remove from the list of transactions\n",
    "# all baskets consisting of only 1 item, as no associations would obviously be found in this case anyway\n",
    "# we select only transactions in sales df containing at least one other product in the basket in addition to a top-10 product\n",
    "# and remove dummy transactions for product T_0\n",
    "sales_multi = sales_multi.loc[(sales_multi['basket_size'] > 1) & (sales_multi['id_prod'] != 'T_0')]\n",
    "\n",
    "# extract only relevant columns from resulting df for association analysis\n",
    "sales_assoc = sales_multi[['session_id','id_prod']].copy()\n",
    "\n",
    "# create basket_list column which shows each session's basket as a list of strings \n",
    "basket_assoc = sales_assoc.groupby('session_id')['id_prod'].apply(list).reset_index()\n",
    "basket_assoc.rename(columns={'id_prod': 'basket_list'}, inplace=True)\n",
    "\n",
    "# the apriori algorithm takes a one-hot encoded or boolean df as input, generated with the transaction encoder function\n",
    "# the transaction encoder function requires the input baskets to be formatted as a list of lists\n",
    "# create list of lists from basket_list column\n",
    "baskets = basket_assoc['basket_list'].copy().to_list()\n",
    "\n",
    "# create one-hot encoded dataframe from list of baskets\n",
    "# pass df.astype('bool') as first argument in apriori function otherwise will throw an exception\n",
    "a = TransactionEncoder()\n",
    "a_data = a.fit(baskets).transform(baskets)\n",
    "baskets2 = pd.DataFrame(a_data,columns=a.columns_)\n",
    "baskets2 = baskets2.replace(False,0)\n",
    "baskets2 = baskets2.replace(True,1)\n",
    "\n",
    "# run apriori algorithm on resulting dataframe\n",
    "# as we are not running the algorithm on the entire sales data but rather on a sampled subset including only the \n",
    "# 10 most popular products by volume, there is a risk of losing itemsets that are actually frequent so in order to \n",
    "# avoid this, we will set a very low minimum support\n",
    "# to minimise running time, we only look at itemsets of size max_len = 2\n",
    "baskets2 = apriori(baskets2.astype('bool'), min_support=0.01, use_colnames=True, verbose=1, low_memory=False, max_len=2)\n",
    "# baskets2.astype('bool') as baskets2 was one-hot encoded, typecasting not needed if df is boolean\n",
    "\n",
    "# create association rules table\n",
    "baskets2_ar = association_rules(baskets2, metric=\"confidence\", min_threshold=0.5, support_only=False)\n",
    "# baskets2_ar"
   ]
  },
  {
   "cell_type": "code",
   "execution_count": 5,
   "id": "97b4c8d7",
   "metadata": {},
   "outputs": [],
   "source": [
    "# confidence in a rule is calculated by dividing the probability of the items occurring together by the probability\n",
    "# of the occurrence of the antecedent. Items with confidence of 1 indicate support = antecedent support,\n",
    "# i.e. both items are always bought together. In this case, the model returns conviction as inf.\n",
    "# the larger the maximum itemset, the less likely we are to run into such values (we are looking at only 75 product couples \n",
    "# here, again, due to memory and running time constraints)\n",
    "\n",
    "top_supports = baskets2_ar.sort_values(by=['support','conviction'], ascending=False)"
   ]
  },
  {
   "cell_type": "code",
   "execution_count": 6,
   "id": "231f2912",
   "metadata": {},
   "outputs": [],
   "source": [
    "# access values from frozen sets for further analysis\n",
    "top_supports[\"antecedents\"] = top_supports[\"antecedents\"].apply(lambda x: ','\n",
    "                                                                                  .join(list(x))).astype(\"unicode\")"
   ]
  },
  {
   "cell_type": "code",
   "execution_count": 7,
   "id": "529083cf",
   "metadata": {},
   "outputs": [],
   "source": [
    "top_supports_list_tot = top_supports.groupby('consequents')['antecedents'].apply(list).reset_index()\n",
    "\n",
    "# access values from frozen sets for further analysis\n",
    "top_supports_list_tot[\"consequents\"] = top_supports_list_tot[\"consequents\"].apply(lambda x: ','\n",
    "                                                                                  .join(list(x))).astype(\"unicode\")"
   ]
  },
  {
   "cell_type": "code",
   "execution_count": 8,
   "id": "036e592c",
   "metadata": {},
   "outputs": [
    {
     "name": "stdout",
     "output_type": "stream",
     "text": [
      "None\n"
     ]
    },
    {
     "data": {
      "text/html": [
       "<div>\n",
       "<style scoped>\n",
       "    .dataframe tbody tr th:only-of-type {\n",
       "        vertical-align: middle;\n",
       "    }\n",
       "\n",
       "    .dataframe tbody tr th {\n",
       "        vertical-align: top;\n",
       "    }\n",
       "\n",
       "    .dataframe thead th {\n",
       "        text-align: right;\n",
       "    }\n",
       "</style>\n",
       "<table border=\"1\" class=\"dataframe\">\n",
       "  <thead>\n",
       "    <tr style=\"text-align: right;\">\n",
       "      <th></th>\n",
       "      <th>Products from top 10</th>\n",
       "      <th>Frequently bought with</th>\n",
       "    </tr>\n",
       "  </thead>\n",
       "  <tbody>\n",
       "    <tr>\n",
       "      <th>0</th>\n",
       "      <td>1_414</td>\n",
       "      <td>[1_434, 0_1621, 0_1593]</td>\n",
       "    </tr>\n",
       "    <tr>\n",
       "      <th>1</th>\n",
       "      <td>1_412</td>\n",
       "      <td>[1_400]</td>\n",
       "    </tr>\n",
       "    <tr>\n",
       "      <th>2</th>\n",
       "      <td>1_369</td>\n",
       "      <td>[1_277, 0_1059, 0_1205, 1_141]</td>\n",
       "    </tr>\n",
       "    <tr>\n",
       "      <th>4</th>\n",
       "      <td>1_406</td>\n",
       "      <td>[0_1467]</td>\n",
       "    </tr>\n",
       "    <tr>\n",
       "      <th>7</th>\n",
       "      <td>1_425</td>\n",
       "      <td>[0_1525, 0_1641, 0_2231, 1_504, 1_370]</td>\n",
       "    </tr>\n",
       "    <tr>\n",
       "      <th>8</th>\n",
       "      <td>1_417</td>\n",
       "      <td>[0_1525, 0_1641, 0_2231, 1_504, 1_370, 1_320, 1_396]</td>\n",
       "    </tr>\n",
       "    <tr>\n",
       "      <th>9</th>\n",
       "      <td>1_407</td>\n",
       "      <td>[1_433, 0_1205, 1_434, 1_459]</td>\n",
       "    </tr>\n",
       "    <tr>\n",
       "      <th>13</th>\n",
       "      <td>1_498</td>\n",
       "      <td>[0_1047, 0_1596, 0_1616, 1_456, 1_277, 0_1059, 1_141]</td>\n",
       "    </tr>\n",
       "    <tr>\n",
       "      <th>15</th>\n",
       "      <td>1_413</td>\n",
       "      <td>[0_1047, 0_1596, 0_1616, 1_456, 1_441]</td>\n",
       "    </tr>\n",
       "  </tbody>\n",
       "</table>\n",
       "</div>"
      ],
      "text/plain": [
       "   Products from top 10                                 Frequently bought with\n",
       "0                 1_414                                [1_434, 0_1621, 0_1593]\n",
       "1                 1_412                                                [1_400]\n",
       "2                 1_369                         [1_277, 0_1059, 0_1205, 1_141]\n",
       "4                 1_406                                               [0_1467]\n",
       "7                 1_425                 [0_1525, 0_1641, 0_2231, 1_504, 1_370]\n",
       "8                 1_417   [0_1525, 0_1641, 0_2231, 1_504, 1_370, 1_320, 1_396]\n",
       "9                 1_407                          [1_433, 0_1205, 1_434, 1_459]\n",
       "13                1_498  [0_1047, 0_1596, 0_1616, 1_456, 1_277, 0_1059, 1_141]\n",
       "15                1_413                 [0_1047, 0_1596, 0_1616, 1_456, 1_441]"
      ]
     },
     "execution_count": 8,
     "metadata": {},
     "output_type": "execute_result"
    }
   ],
   "source": [
    "pd.set_option('display.max_colwidth', None)\n",
    "top_supports_list_top10 = top_supports_list_tot.loc[top_supports_list_tot['consequents'].isin(max_list)].copy()\n",
    "top_supports_list_top10.rename(columns={'consequents': 'Products from top 10',\n",
    "                                        'antecedents':'Frequently bought with'}, inplace=True)\n",
    "print(top_supports_list_top10.to_csv(\"top_10_associations.csv\", index=False))\n",
    "top_supports_list_top10"
   ]
  },
  {
   "cell_type": "code",
   "execution_count": 9,
   "id": "c9a2651d",
   "metadata": {},
   "outputs": [
    {
     "data": {
      "text/plain": [
       "Counter({'1_434': 2,\n",
       "         '0_1621': 1,\n",
       "         '0_1593': 1,\n",
       "         '1_400': 1,\n",
       "         '1_277': 2,\n",
       "         '0_1059': 2,\n",
       "         '0_1205': 2,\n",
       "         '1_141': 2,\n",
       "         '0_1467': 1,\n",
       "         '0_1525': 2,\n",
       "         '0_1641': 2,\n",
       "         '0_2231': 2,\n",
       "         '1_504': 2,\n",
       "         '1_370': 2,\n",
       "         '1_320': 1,\n",
       "         '1_396': 1,\n",
       "         '1_433': 1,\n",
       "         '1_459': 1,\n",
       "         '0_1047': 2,\n",
       "         '0_1596': 2,\n",
       "         '0_1616': 2,\n",
       "         '1_456': 2,\n",
       "         '1_441': 1})"
      ]
     },
     "execution_count": 9,
     "metadata": {},
     "output_type": "execute_result"
    }
   ],
   "source": [
    "freq_buys = top_supports_list_top10[\"Frequently bought with\"].tolist()\n",
    "freq_buys_merged = list(it.chain(*freq_buys))\n",
    "freq_buys_list = Counter(freq_buys_merged)\n",
    "(pd.DataFrame.from_dict(data=freq_buys_list, orient='index').to_csv('AssociationAnalysis.csv', header=False))\n",
    "freq_buys_list"
   ]
  },
  {
   "cell_type": "markdown",
   "id": "ddd8a728",
   "metadata": {},
   "source": [
    "#### Les produits 1_141, 1_059, 1_456, 1_370, 0_1205, 0_2231, 1_504, 0_1047, 0_1596, 0_1616, 1_277, 0_1525, 0_1641 et 1_434 sont le plus frequemment achetes avec les produits de notre top 10 en volume (aucun d'entre-eux ne fait lui-meme partie du top 10).\n",
    "#### Le produit 1_403 est absent de la liste des associations trouvees, ce qu'il a fallu verifier et expliquer.\n",
    "#### Ce produit est toujours vendu seul (1956 fois) sauf dans 4 sessions ou il est toujours vendu plusieurs fois au meme client dans le meme panier, il n'a donc pas passe le prunage du minimum support a 0.01, meme si celui-ci a ete initialise tres bas pour inclure le maximum de transactions (il est tres peu souvent vendu en panier, et dans tous les rares cas ou il l'est, c'est toujours - entre autres - avec lui-meme)."
   ]
  },
  {
   "cell_type": "code",
   "execution_count": 10,
   "id": "3c6e334d",
   "metadata": {},
   "outputs": [
    {
     "data": {
      "text/html": [
       "<div>\n",
       "<style scoped>\n",
       "    .dataframe tbody tr th:only-of-type {\n",
       "        vertical-align: middle;\n",
       "    }\n",
       "\n",
       "    .dataframe tbody tr th {\n",
       "        vertical-align: top;\n",
       "    }\n",
       "\n",
       "    .dataframe thead th {\n",
       "        text-align: right;\n",
       "    }\n",
       "</style>\n",
       "<table border=\"1\" class=\"dataframe\">\n",
       "  <thead>\n",
       "    <tr style=\"text-align: right;\">\n",
       "      <th></th>\n",
       "      <th>id_prod</th>\n",
       "      <th>date</th>\n",
       "      <th>session_id</th>\n",
       "      <th>client_id</th>\n",
       "    </tr>\n",
       "  </thead>\n",
       "  <tbody>\n",
       "    <tr>\n",
       "      <th>378</th>\n",
       "      <td>1_403</td>\n",
       "      <td>2021-11-27 17:05:29.270642</td>\n",
       "      <td>s_125917</td>\n",
       "      <td>c_4027</td>\n",
       "    </tr>\n",
       "    <tr>\n",
       "      <th>395</th>\n",
       "      <td>1_403</td>\n",
       "      <td>2021-06-10 20:20:47.119410</td>\n",
       "      <td>s_46860</td>\n",
       "      <td>c_4964</td>\n",
       "    </tr>\n",
       "    <tr>\n",
       "      <th>439</th>\n",
       "      <td>1_403</td>\n",
       "      <td>2021-08-03 15:52:13.496310</td>\n",
       "      <td>s_70918</td>\n",
       "      <td>c_4372</td>\n",
       "    </tr>\n",
       "    <tr>\n",
       "      <th>856</th>\n",
       "      <td>1_403</td>\n",
       "      <td>2022-01-28 23:27:06.042814</td>\n",
       "      <td>s_156661</td>\n",
       "      <td>c_6253</td>\n",
       "    </tr>\n",
       "    <tr>\n",
       "      <th>1264</th>\n",
       "      <td>1_403</td>\n",
       "      <td>2022-07-15 10:56:54.590957</td>\n",
       "      <td>s_238704</td>\n",
       "      <td>c_1256</td>\n",
       "    </tr>\n",
       "  </tbody>\n",
       "</table>\n",
       "</div>"
      ],
      "text/plain": [
       "     id_prod                        date session_id client_id\n",
       "378    1_403  2021-11-27 17:05:29.270642   s_125917    c_4027\n",
       "395    1_403  2021-06-10 20:20:47.119410    s_46860    c_4964\n",
       "439    1_403  2021-08-03 15:52:13.496310    s_70918    c_4372\n",
       "856    1_403  2022-01-28 23:27:06.042814   s_156661    c_6253\n",
       "1264   1_403  2022-07-15 10:56:54.590957   s_238704    c_1256"
      ]
     },
     "execution_count": 10,
     "metadata": {},
     "output_type": "execute_result"
    }
   ],
   "source": [
    "# on verifie si 1_403 est toujours vendu seul\n",
    "sales_1_403 = sales.loc[sales['id_prod'] == \"1_403\"]\n",
    "sales_1_403.head()"
   ]
  },
  {
   "cell_type": "code",
   "execution_count": 11,
   "id": "dbce916f",
   "metadata": {},
   "outputs": [
    {
     "data": {
      "text/plain": [
       "(1960, 4)"
      ]
     },
     "execution_count": 11,
     "metadata": {},
     "output_type": "execute_result"
    }
   ],
   "source": [
    "# total number of sales for product 1_403\n",
    "sales_1_403.shape"
   ]
  },
  {
   "cell_type": "code",
   "execution_count": 12,
   "id": "e515ad8b",
   "metadata": {},
   "outputs": [
    {
     "data": {
      "text/plain": [
       "1956"
      ]
     },
     "execution_count": 12,
     "metadata": {},
     "output_type": "execute_result"
    }
   ],
   "source": [
    "# number of sessions over which these sales were made\n",
    "len(sales_1_403['session_id'].unique())"
   ]
  },
  {
   "cell_type": "code",
   "execution_count": 13,
   "id": "2abb8106",
   "metadata": {},
   "outputs": [
    {
     "data": {
      "text/html": [
       "<div>\n",
       "<style scoped>\n",
       "    .dataframe tbody tr th:only-of-type {\n",
       "        vertical-align: middle;\n",
       "    }\n",
       "\n",
       "    .dataframe tbody tr th {\n",
       "        vertical-align: top;\n",
       "    }\n",
       "\n",
       "    .dataframe thead th {\n",
       "        text-align: right;\n",
       "    }\n",
       "</style>\n",
       "<table border=\"1\" class=\"dataframe\">\n",
       "  <thead>\n",
       "    <tr style=\"text-align: right;\">\n",
       "      <th></th>\n",
       "      <th>id_prod</th>\n",
       "      <th>date</th>\n",
       "      <th>session_id</th>\n",
       "      <th>client_id</th>\n",
       "    </tr>\n",
       "  </thead>\n",
       "  <tbody>\n",
       "    <tr>\n",
       "      <th>321331</th>\n",
       "      <td>1_403</td>\n",
       "      <td>2021-09-27 09:07:54.808849</td>\n",
       "      <td>s_96271</td>\n",
       "      <td>c_6957</td>\n",
       "    </tr>\n",
       "    <tr>\n",
       "      <th>553388</th>\n",
       "      <td>1_403</td>\n",
       "      <td>2021-09-09 22:57:56.628205</td>\n",
       "      <td>s_87497</td>\n",
       "      <td>c_4023</td>\n",
       "    </tr>\n",
       "    <tr>\n",
       "      <th>571792</th>\n",
       "      <td>1_403</td>\n",
       "      <td>2021-07-23 01:48:04.032569</td>\n",
       "      <td>s_65901</td>\n",
       "      <td>c_8529</td>\n",
       "    </tr>\n",
       "    <tr>\n",
       "      <th>667672</th>\n",
       "      <td>1_403</td>\n",
       "      <td>2022-12-23 01:48:04.032569</td>\n",
       "      <td>s_316029</td>\n",
       "      <td>c_8529</td>\n",
       "    </tr>\n",
       "  </tbody>\n",
       "</table>\n",
       "</div>"
      ],
      "text/plain": [
       "       id_prod                        date session_id client_id\n",
       "321331   1_403  2021-09-27 09:07:54.808849    s_96271    c_6957\n",
       "553388   1_403  2021-09-09 22:57:56.628205    s_87497    c_4023\n",
       "571792   1_403  2021-07-23 01:48:04.032569    s_65901    c_8529\n",
       "667672   1_403  2022-12-23 01:48:04.032569   s_316029    c_8529"
      ]
     },
     "execution_count": 13,
     "metadata": {},
     "output_type": "execute_result"
    }
   ],
   "source": [
    "# there are therefore 4 sessions in which 1_403 was sold as part of a basket\n",
    "# identify session where product 1_403 is in a basket\n",
    "ver = sales_1_403.loc[sales_1_403['session_id'].duplicated() == True]\n",
    "ver"
   ]
  },
  {
   "cell_type": "code",
   "execution_count": 14,
   "id": "1932b12f",
   "metadata": {},
   "outputs": [
    {
     "data": {
      "text/plain": [
       "(18, 4)"
      ]
     },
     "execution_count": 14,
     "metadata": {},
     "output_type": "execute_result"
    }
   ],
   "source": [
    "# retrieve session information from sales table\n",
    "ver2 = sales.loc[(sales['session_id'] == 's_96271') |(sales['session_id'] == 's_87497')|(sales['session_id'] == 's_65901')\n",
    "                |(sales['session_id'] == 's_316029')]\n",
    "ver2.shape"
   ]
  },
  {
   "cell_type": "code",
   "execution_count": 15,
   "id": "b10d446b",
   "metadata": {},
   "outputs": [
    {
     "data": {
      "text/html": [
       "<div>\n",
       "<style scoped>\n",
       "    .dataframe tbody tr th:only-of-type {\n",
       "        vertical-align: middle;\n",
       "    }\n",
       "\n",
       "    .dataframe tbody tr th {\n",
       "        vertical-align: top;\n",
       "    }\n",
       "\n",
       "    .dataframe thead th {\n",
       "        text-align: right;\n",
       "    }\n",
       "</style>\n",
       "<table border=\"1\" class=\"dataframe\">\n",
       "  <thead>\n",
       "    <tr style=\"text-align: right;\">\n",
       "      <th></th>\n",
       "      <th>id_prod</th>\n",
       "      <th>date</th>\n",
       "      <th>session_id</th>\n",
       "      <th>client_id</th>\n",
       "    </tr>\n",
       "  </thead>\n",
       "  <tbody>\n",
       "    <tr>\n",
       "      <th>119219</th>\n",
       "      <td>1_403</td>\n",
       "      <td>2021-09-27 09:21:36.980330</td>\n",
       "      <td>s_96271</td>\n",
       "      <td>c_6957</td>\n",
       "    </tr>\n",
       "    <tr>\n",
       "      <th>321331</th>\n",
       "      <td>1_403</td>\n",
       "      <td>2021-09-27 09:07:54.808849</td>\n",
       "      <td>s_96271</td>\n",
       "      <td>c_6957</td>\n",
       "    </tr>\n",
       "    <tr>\n",
       "      <th>127318</th>\n",
       "      <td>1_643</td>\n",
       "      <td>2021-09-10 00:08:59.137582</td>\n",
       "      <td>s_87497</td>\n",
       "      <td>c_4023</td>\n",
       "    </tr>\n",
       "    <tr>\n",
       "      <th>649159</th>\n",
       "      <td>1_43</td>\n",
       "      <td>2021-09-10 00:13:11.713117</td>\n",
       "      <td>s_87497</td>\n",
       "      <td>c_4023</td>\n",
       "    </tr>\n",
       "    <tr>\n",
       "      <th>307055</th>\n",
       "      <td>1_403</td>\n",
       "      <td>2021-09-09 22:59:28.275048</td>\n",
       "      <td>s_87497</td>\n",
       "      <td>c_4023</td>\n",
       "    </tr>\n",
       "    <tr>\n",
       "      <th>553388</th>\n",
       "      <td>1_403</td>\n",
       "      <td>2021-09-09 22:57:56.628205</td>\n",
       "      <td>s_87497</td>\n",
       "      <td>c_4023</td>\n",
       "    </tr>\n",
       "    <tr>\n",
       "      <th>15103</th>\n",
       "      <td>1_397</td>\n",
       "      <td>2021-09-09 23:48:06.171949</td>\n",
       "      <td>s_87497</td>\n",
       "      <td>c_4023</td>\n",
       "    </tr>\n",
       "    <tr>\n",
       "      <th>44415</th>\n",
       "      <td>0_1720</td>\n",
       "      <td>2021-09-09 23:14:44.991880</td>\n",
       "      <td>s_87497</td>\n",
       "      <td>c_4023</td>\n",
       "    </tr>\n",
       "    <tr>\n",
       "      <th>274757</th>\n",
       "      <td>0_1704</td>\n",
       "      <td>2021-09-09 23:14:55.220310</td>\n",
       "      <td>s_87497</td>\n",
       "      <td>c_4023</td>\n",
       "    </tr>\n",
       "    <tr>\n",
       "      <th>484177</th>\n",
       "      <td>0_1665</td>\n",
       "      <td>2021-09-09 23:27:03.022057</td>\n",
       "      <td>s_87497</td>\n",
       "      <td>c_4023</td>\n",
       "    </tr>\n",
       "    <tr>\n",
       "      <th>14462</th>\n",
       "      <td>0_1526</td>\n",
       "      <td>2021-09-09 22:57:23.250644</td>\n",
       "      <td>s_87497</td>\n",
       "      <td>c_4023</td>\n",
       "    </tr>\n",
       "    <tr>\n",
       "      <th>179438</th>\n",
       "      <td>0_1420</td>\n",
       "      <td>2021-09-10 00:13:20.150990</td>\n",
       "      <td>s_87497</td>\n",
       "      <td>c_4023</td>\n",
       "    </tr>\n",
       "    <tr>\n",
       "      <th>206508</th>\n",
       "      <td>1_403</td>\n",
       "      <td>2021-07-23 01:32:30.397456</td>\n",
       "      <td>s_65901</td>\n",
       "      <td>c_8529</td>\n",
       "    </tr>\n",
       "    <tr>\n",
       "      <th>571792</th>\n",
       "      <td>1_403</td>\n",
       "      <td>2021-07-23 01:48:04.032569</td>\n",
       "      <td>s_65901</td>\n",
       "      <td>c_8529</td>\n",
       "    </tr>\n",
       "    <tr>\n",
       "      <th>66866</th>\n",
       "      <td>1_385</td>\n",
       "      <td>2021-07-23 01:41:05.695147</td>\n",
       "      <td>s_65901</td>\n",
       "      <td>c_8529</td>\n",
       "    </tr>\n",
       "    <tr>\n",
       "      <th>628535</th>\n",
       "      <td>1_403</td>\n",
       "      <td>2022-12-23 01:32:30.397456</td>\n",
       "      <td>s_316029</td>\n",
       "      <td>c_8529</td>\n",
       "    </tr>\n",
       "    <tr>\n",
       "      <th>667672</th>\n",
       "      <td>1_403</td>\n",
       "      <td>2022-12-23 01:48:04.032569</td>\n",
       "      <td>s_316029</td>\n",
       "      <td>c_8529</td>\n",
       "    </tr>\n",
       "    <tr>\n",
       "      <th>591488</th>\n",
       "      <td>1_385</td>\n",
       "      <td>2022-12-23 01:41:05.695147</td>\n",
       "      <td>s_316029</td>\n",
       "      <td>c_8529</td>\n",
       "    </tr>\n",
       "  </tbody>\n",
       "</table>\n",
       "</div>"
      ],
      "text/plain": [
       "       id_prod                        date session_id client_id\n",
       "119219   1_403  2021-09-27 09:21:36.980330    s_96271    c_6957\n",
       "321331   1_403  2021-09-27 09:07:54.808849    s_96271    c_6957\n",
       "127318   1_643  2021-09-10 00:08:59.137582    s_87497    c_4023\n",
       "649159    1_43  2021-09-10 00:13:11.713117    s_87497    c_4023\n",
       "307055   1_403  2021-09-09 22:59:28.275048    s_87497    c_4023\n",
       "553388   1_403  2021-09-09 22:57:56.628205    s_87497    c_4023\n",
       "15103    1_397  2021-09-09 23:48:06.171949    s_87497    c_4023\n",
       "44415   0_1720  2021-09-09 23:14:44.991880    s_87497    c_4023\n",
       "274757  0_1704  2021-09-09 23:14:55.220310    s_87497    c_4023\n",
       "484177  0_1665  2021-09-09 23:27:03.022057    s_87497    c_4023\n",
       "14462   0_1526  2021-09-09 22:57:23.250644    s_87497    c_4023\n",
       "179438  0_1420  2021-09-10 00:13:20.150990    s_87497    c_4023\n",
       "206508   1_403  2021-07-23 01:32:30.397456    s_65901    c_8529\n",
       "571792   1_403  2021-07-23 01:48:04.032569    s_65901    c_8529\n",
       "66866    1_385  2021-07-23 01:41:05.695147    s_65901    c_8529\n",
       "628535   1_403  2022-12-23 01:32:30.397456   s_316029    c_8529\n",
       "667672   1_403  2022-12-23 01:48:04.032569   s_316029    c_8529\n",
       "591488   1_385  2022-12-23 01:41:05.695147   s_316029    c_8529"
      ]
     },
     "execution_count": 15,
     "metadata": {},
     "output_type": "execute_result"
    }
   ],
   "source": [
    "# sort data for final inspection\n",
    "ver3 = ver2.sort_values(by=['session_id','id_prod'], ascending=False)\n",
    "ver3"
   ]
  },
  {
   "cell_type": "code",
   "execution_count": 16,
   "id": "6ad44a2d",
   "metadata": {},
   "outputs": [],
   "source": [
    "#### Quand le produit 1_1403 n'est pas achete seul (4 cas sur 1960, soit moins de 0.01 qui est notre minimum support), il est\n",
    "#### en fait achete avec lui-meme, ce que l'algorithme ne compte pas comme une association a proprement parler\n",
    "#### (en plus d'etre comme on l'a deja dit tres infrequent) - ce produit n'a donc pas passe l'etape du prunage, malgre\n",
    "#### le fait qu'il soit en bonne position dans le top 10 des ventes en volume toutes categories confondues.\n",
    "\n",
    "\n",
    "#### les timings des sessions s_65901 et s_316029 ainsi que le client et les produits achetes sont identiques,\n",
    "#### seule la date change (+17 mois)\n",
    "#### compte-tenu du fait que les produits sont des livres, il est curieux que le meme client achete le meme produit 2\n",
    "#### fois dans la meme session et le rachete ensuite 2 fois plusieurs mois apres, particulierement quand ce client\n",
    "#### ne fait pas partie de nos clients professionnels => probleme de generation des \n",
    "#### donnees? (cf. donnees de ventes manquantes en octobre 2021 pour les produits de classe 1)\n",
    "#### Il conviendrait de s'assurer en amont de l'integrite des donnees generees par le site de vente en ligne."
   ]
  }
 ],
 "metadata": {
  "kernelspec": {
   "display_name": "Python 3 (ipykernel)",
   "language": "python",
   "name": "python3"
  },
  "language_info": {
   "codemirror_mode": {
    "name": "ipython",
    "version": 3
   },
   "file_extension": ".py",
   "mimetype": "text/x-python",
   "name": "python",
   "nbconvert_exporter": "python",
   "pygments_lexer": "ipython3",
   "version": "3.9.13"
  }
 },
 "nbformat": 4,
 "nbformat_minor": 5
}
